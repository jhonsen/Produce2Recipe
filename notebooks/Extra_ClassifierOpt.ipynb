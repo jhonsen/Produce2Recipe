{
 "cells": [
  {
   "cell_type": "markdown",
   "metadata": {},
   "source": [
    "## CNN for Image classification \n",
    "- Check out francis choillet's [example](https://gist.github.com/fchollet/f35fbc80e066a49d65f1688a7e99f069) of creating a feature extractor \n",
    "\n",
    "- Find the best combination of model, optimizer and function"
   ]
  },
  {
   "cell_type": "code",
   "execution_count": null,
   "metadata": {},
   "outputs": [],
   "source": [
    "from keras_veggies import *"
   ]
  },
  {
   "cell_type": "markdown",
   "metadata": {},
   "source": [
    "### Collect Combinations of parameters\n",
    "- collectCombo() function is imported from keras_veggies.py\n",
    "- this function trains a chosen model for 50 epochs, using different optimizers: _adam_, _sgd_, _rmsprop_ , _adagrad_, _adamax_, and _adadelta_\n",
    "- at the end of it the learning curves will be plotted"
   ]
  },
  {
   "cell_type": "code",
   "execution_count": null,
   "metadata": {},
   "outputs": [],
   "source": [
    "# >>>> It will take half the whole day to run each model <<<<\n",
    "\n",
    "# df_vgg16, dict_his_vgg16 = collectCombo(input_models=['vgg16'], \n",
    "#                            input_optims=['adam','sgd','rmsprop','ada_grad','ada_max','ada_delta'],\n",
    "#                            input_funcs=['softmax'])\n",
    "\n",
    "# df_monet, dict_his_monet = collectCombo(input_models=['monet'], \n",
    "#                            input_optims=['adam','sgd','rmsprop','ada_grad','ada_max','ada_delta'],\n",
    "#                            input_funcs=['softmax'])\n",
    "\n",
    "# df_res50, dict_his_res50 = collectCombo(input_models=['res50'], \n",
    "#                            input_optims=['adam','sgd','rmsprop','ada_grad','ada_max','ada_delta'],\n",
    "#                            input_funcs=['softmax'])\n",
    "\n",
    "# df_xceptn, dict_his_xceptn = collectCombo(input_models=['xception'], \n",
    "#                            input_optims=['adam','sgd','rmsprop','ada_grad','ada_max','ada_delta'],\n",
    "#                            input_funcs=['softmax'])\n",
    "\n",
    "# df_inception, dict_his_xceptn = collectCombo(input_models=['inception'], \n",
    "#                            input_optims=['adam','sgd','rmsprop','ada_grad','ada_max','ada_delta'],\n",
    "#                            input_funcs=['softmax'])\n",
    "\n",
    "# df_res50, dict_his_res50 = collectCombo(input_models=['res50'], \n",
    "#                            input_optims=['adam','sgd','rmsprop','ada_grad','ada_max','ada_delta'],\n",
    "#                            input_funcs=['softmax'])"
   ]
  },
  {
   "cell_type": "code",
   "execution_count": null,
   "metadata": {},
   "outputs": [],
   "source": [
    "### Concatenate all of the combination result\n",
    "\n",
    "df_combo = pd.concat([df_monet,df_xceptn, df_vgg16, \n",
    "                      df_inception, df_res50], axis=0)\n",
    "df_combo"
   ]
  },
  {
   "cell_type": "code",
   "execution_count": null,
   "metadata": {},
   "outputs": [],
   "source": [
    "# Checkout the Top-5 best result \n",
    "df_combo.sort_values(by=['accuracy'], ascending=False).head()"
   ]
  },
  {
   "cell_type": "code",
   "execution_count": null,
   "metadata": {},
   "outputs": [],
   "source": [
    "# save dataframe of summary performance\n",
    "with open('./models/dfCombo_allModels.pkl','wb') as fout:\n",
    "    pickle.dump(df_combo, fout)"
   ]
  },
  {
   "cell_type": "markdown",
   "metadata": {},
   "source": [
    "---"
   ]
  }
 ],
 "metadata": {
  "kernelspec": {
   "display_name": "Python 3",
   "language": "python",
   "name": "python3"
  },
  "language_info": {
   "codemirror_mode": {
    "name": "ipython",
    "version": 3
   },
   "file_extension": ".py",
   "mimetype": "text/x-python",
   "name": "python",
   "nbconvert_exporter": "python",
   "pygments_lexer": "ipython3",
   "version": "3.6.6"
  }
 },
 "nbformat": 4,
 "nbformat_minor": 2
}
