{
 "cells": [
  {
   "cell_type": "markdown",
   "metadata": {},
   "source": [
    "## Pre-processing of Recipe data\n",
    "- Load in JSON file into pandas dataframe"
   ]
  },
  {
   "cell_type": "markdown",
   "metadata": {},
   "source": [
    "Import Libraries"
   ]
  },
  {
   "cell_type": "code",
   "execution_count": null,
   "metadata": {},
   "outputs": [],
   "source": [
    "import os\n",
    "import json\n",
    "import pickle\n",
    "import time \n",
    "\n",
    "from PIL import Image\n",
    "import io\n",
    "import urllib.request\n",
    "\n",
    "import numpy as np\n",
    "import pandas as pd\n",
    "from pandas.io.json import json_normalize \n",
    "\n",
    "from functools import reduce\n",
    "\n",
    "from tqdm import tqdm\n",
    "tqdm.pandas()"
   ]
  },
  {
   "cell_type": "code",
   "execution_count": null,
   "metadata": {},
   "outputs": [],
   "source": [
    "# Open JSON\n",
    "with open('../data/recipes_raw_epi.json') as fin:\n",
    "    data = json.load(fin)"
   ]
  },
  {
   "cell_type": "code",
   "execution_count": null,
   "metadata": {},
   "outputs": [],
   "source": [
    "# Collect the keys of (top-level) dictionary\n",
    "dict_keys = [each for each in data.keys()]\n",
    "\n",
    "# Create a dataframe for dictionaryb-keys\n",
    "df_dictkeys = pd.DataFrame(dict_keys, columns=['url'])"
   ]
  },
  {
   "cell_type": "code",
   "execution_count": null,
   "metadata": {},
   "outputs": [],
   "source": [
    "# Convert (dictionary of dictionary) into (list of dataframe)\n",
    "# So that we loop through each dictionary easily by indexing it\n",
    "data = [json_normalize(data[each]) for each in dict_keys]"
   ]
  },
  {
   "cell_type": "code",
   "execution_count": null,
   "metadata": {},
   "outputs": [],
   "source": [
    "# Then, append each into the dataframe\n",
    "df = data[0]\n",
    "for each in data[1:]:\n",
    "    df = df.append(each)\n",
    "    \n",
    "# >>>> The lines (ABOVE) will take a while to complete <<<"
   ]
  },
  {
   "cell_type": "code",
   "execution_count": null,
   "metadata": {},
   "outputs": [],
   "source": [
    "# add URL info to the dataframe\n",
    "\n",
    "df = pd.DataFrame(np.c_[df, df_dictkeys], \n",
    "                   columns = df.columns.tolist() + df_dictkeys.columns.tolist()) "
   ]
  },
  {
   "cell_type": "markdown",
   "metadata": {},
   "source": [
    "### Do some cleaning"
   ]
  },
  {
   "cell_type": "code",
   "execution_count": null,
   "metadata": {},
   "outputs": [],
   "source": [
    "# Replace None with zeros (0), so we can locate those easily\n",
    "df.fillna(value=0, inplace=True)\n",
    "\n",
    "# Fix the index\n",
    "df.reset_index(inplace=True, drop=True)\n",
    "               \n",
    "# Remove observations where its all zeros\n",
    "df = df[df.title!=0]\n",
    "\n",
    "# Remove observations where it has no title\n",
    "df= df[df.title != '']"
   ]
  },
  {
   "cell_type": "markdown",
   "metadata": {},
   "source": [
    "### Clean titles"
   ]
  },
  {
   "cell_type": "code",
   "execution_count": null,
   "metadata": {},
   "outputs": [],
   "source": [
    "# Create column that describes the number of words in title\n",
    "df['title_numWords'] = df['title'].progress_apply(lambda sent: len(sent.strip().split(' ')))"
   ]
  },
  {
   "cell_type": "code",
   "execution_count": null,
   "metadata": {},
   "outputs": [],
   "source": [
    "# Sort by title length\n",
    "df.sort_values(by='title_numWords', ascending=False).head(3)"
   ]
  },
  {
   "cell_type": "code",
   "execution_count": null,
   "metadata": {},
   "outputs": [],
   "source": [
    "# Drop observations index 25963, 29045 (see above); they arent parsed correctly\n",
    "df.drop(index=25974, inplace=True)\n",
    "df.drop(index=29056, inplace=True)"
   ]
  },
  {
   "cell_type": "code",
   "execution_count": null,
   "metadata": {},
   "outputs": [],
   "source": [
    "# Replace ''\\n' with a space\n",
    "df['title']= df['title'].str.replace('\\n', ' ')\n",
    "# Split multiple spaces \n",
    "df['title'] = df['title'].progress_apply(lambda sent: sent.strip().split(' '))"
   ]
  },
  {
   "cell_type": "code",
   "execution_count": null,
   "metadata": {},
   "outputs": [],
   "source": [
    "# Function to remove punctuation\n",
    "def stripChar(name):\n",
    "    '''function returns name without trailing characters in listChars\n",
    "    Input:\n",
    "        name      - name to strip\n",
    "        listChars - list of characters (e.g., ['*','+','-'])\n",
    "    '''\n",
    "    listChars = ['*','-','+',',','.']\n",
    "    # Use RECURSION to strip trailing characters in listChars (*, -, +)\n",
    "    if len(name) ==0:\n",
    "        newname=name\n",
    "    elif name[-1] in listChars:\n",
    "        newname = name[:-1]\n",
    "        newname = stripChar(newname)\n",
    "    else:\n",
    "        newname = name\n",
    "    return newname"
   ]
  },
  {
   "cell_type": "code",
   "execution_count": null,
   "metadata": {},
   "outputs": [],
   "source": [
    "# Filter out spaces from the list \n",
    "df['title'] = df['title'].progress_apply(lambda sent: [stripChar(w) for w in sent ])\n",
    "# Rejoining title\n",
    "df['title'] = df['title'].progress_apply(lambda words: ' '.join(words))\n",
    "# split based on space ' '\n",
    "df['title_numWords'] = df['title'].progress_apply(lambda sent: len(sent.split(' ')))"
   ]
  },
  {
   "cell_type": "code",
   "execution_count": null,
   "metadata": {},
   "outputs": [],
   "source": [
    "# For now, remove \"recipes\" with 0 calories\n",
    "df = df[df.calories!=0].reset_index(drop=True)"
   ]
  },
  {
   "cell_type": "code",
   "execution_count": null,
   "metadata": {},
   "outputs": [],
   "source": [
    "# Find recipes w/ empty titles\n",
    "print(df.shape)\n",
    "indexEmpty = df[df.title==''].index.tolist()\n",
    "df.drop(index=indexEmpty, inplace=True).reset_index(drop=True, inplace=True)\n",
    "print(df.shape)"
   ]
  },
  {
   "cell_type": "markdown",
   "metadata": {},
   "source": [
    "### Collect Images based on the 'picture_link' column"
   ]
  },
  {
   "cell_type": "code",
   "execution_count": null,
   "metadata": {},
   "outputs": [],
   "source": [
    "# Check which observations have images?\n",
    "\n",
    "dfpic = df[(df.picture_link !=0)].reset_index(drop=True)\n",
    "print('Only', dfpic.shape[0], 'recipes actually have photos\\n')"
   ]
  },
  {
   "cell_type": "code",
   "execution_count": null,
   "metadata": {},
   "outputs": [],
   "source": [
    "# Function to display the images\n",
    "def showPicture(df_in, index):\n",
    "    '''Function returns image, given dataframe and index\n",
    "    Input:\n",
    "        df_in .  - dataframe to access\n",
    "        index    - index of dataframe to show\n",
    "    '''\n",
    "    if df_in[df_in.index==index].picture_link.values[0] !=0:\n",
    "        fname= df_in[df_in.index==index].picture_link.values[0].split('/')[-1]\n",
    "        with open(f'../data/images/epicurious_images/{fname}', 'rb') as fin:\n",
    "            image_file = io.BytesIO(fin.read())\n",
    "        output = Image.open(image_file)\n",
    "        print(f'{df_in[df_in.index==index].title.values[0]}')\n",
    "    else:\n",
    "        with open(f'../data/images/epicurious_images/empty.jpg', 'rb') as fin:\n",
    "            image_file = io.BytesIO(fin.read())\n",
    "        output = Image.open(image_file)\n",
    "        print('No image for this recipe')\n",
    "    return output"
   ]
  },
  {
   "cell_type": "code",
   "execution_count": null,
   "metadata": {},
   "outputs": [],
   "source": [
    "# Display an example recipe\n",
    "showPicture(df, 526)"
   ]
  },
  {
   "cell_type": "markdown",
   "metadata": {},
   "source": [
    "### Pickle dataframes\n",
    "- Add `id` as a recipe identifier"
   ]
  },
  {
   "cell_type": "code",
   "execution_count": null,
   "metadata": {},
   "outputs": [],
   "source": [
    "# Create index as id\n",
    "df = df.reset_index()\n",
    "\n",
    "# rename this index into `id`\n",
    "df.rename(columns = {'index':'id'}, inplace=True)"
   ]
  },
  {
   "cell_type": "code",
   "execution_count": null,
   "metadata": {},
   "outputs": [],
   "source": [
    "# Create subset of df_INGREDIENTS for exploratory analysis \n",
    "df_title = df[['id','title','title_numWords','picture_link']]\n",
    "df_ingredients = df[['id','title','ingredients', 'tag_ingredient',\n",
    "                     'picture_link']]\n",
    "\n",
    "# Pickle sections\n",
    "with open('../data/df_epi_title.pkl','wb') as fout:\n",
    "    pickle.dump(df_title, fout)\n",
    "\n",
    "with open('../data/df_epi_ingred.pkl','wb') as fout:\n",
    "    pickle.dump(df_ingredients, fout)\n",
    "    \n",
    "with open('../data/df_epi_cleaner.pkl','wb') as fout:\n",
    "    pickle.dump(df, fout)"
   ]
  }
 ],
 "metadata": {
  "kernelspec": {
   "display_name": "Python 3",
   "language": "python",
   "name": "python3"
  },
  "language_info": {
   "codemirror_mode": {
    "name": "ipython",
    "version": 3
   },
   "file_extension": ".py",
   "mimetype": "text/x-python",
   "name": "python",
   "nbconvert_exporter": "python",
   "pygments_lexer": "ipython3",
   "version": "3.6.6"
  }
 },
 "nbformat": 4,
 "nbformat_minor": 2
}
