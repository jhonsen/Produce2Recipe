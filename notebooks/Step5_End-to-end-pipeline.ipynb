{
 "cells": [
  {
   "cell_type": "markdown",
   "metadata": {},
   "source": [
    "## Example of Image-to-Recipe Pipeline"
   ]
  },
  {
   "cell_type": "code",
   "execution_count": null,
   "metadata": {},
   "outputs": [],
   "source": [
    "import os\n",
    "from src.keras_veggies import *\n",
    "from src.recipeScripts import *\n",
    "from src.miscScripts import *"
   ]
  },
  {
   "cell_type": "markdown",
   "metadata": {},
   "source": [
    "### Load in the dataset"
   ]
  },
  {
   "cell_type": "code",
   "execution_count": null,
   "metadata": {},
   "outputs": [],
   "source": [
    "# import file recipe dataset\n",
    "with open('../data/processed/df_epi_cleaner-5.pkl','rb') as fin:\n",
    "    df = pickle.load(fin)"
   ]
  },
  {
   "cell_type": "markdown",
   "metadata": {},
   "source": [
    "### Calling functions, feature extractor and classifier"
   ]
  },
  {
   "cell_type": "code",
   "execution_count": null,
   "metadata": {},
   "outputs": [],
   "source": [
    "# Calling Feature-Extractor and Predictor\n",
    "\n",
    "extractor = callModel('monet')\n",
    "predictor = load_model('models/trained_model.hdf5')\n",
    "class_dictionary = np.load('models/class_indices.npy').item()\n",
    "inv_map = {v:k for k,v in class_dictionary.items()}"
   ]
  },
  {
   "cell_type": "code",
   "execution_count": null,
   "metadata": {},
   "outputs": [],
   "source": [
    "# Specify directory of test data (images)\n",
    "image_path_dir = '../data/images/testData/'\n",
    "\n",
    "print('... models loaded!')\n",
    "\n",
    "# Loop over each file\n",
    "result=[]\n",
    "for pic_file in os.listdir(image_path_dir):\n",
    "    \n",
    "    image = load_img(image_path_dir+pic_file, target_size=(224,224))\n",
    "    image = img_to_array(image) / 255\n",
    "    image = np.expand_dims(image, axis=0)\n",
    "    \n",
    "    # extractor is called above \n",
    "    features = extractor.predict(image)\n",
    "    # predictor\n",
    "    class_predicted = predictor.predict_classes(features)\n",
    "    probabilities = predictor.predict_proba(features)\n",
    "    \n",
    "    inID = class_predicted[0]\n",
    "    label = inv_map[inID]\n",
    "    \n",
    "    result.append(label)\n",
    "    \n",
    "print('The images are: ', ', '.join(result))\n",
    "\n",
    "# Find recipes with intersections\n",
    "d3, d2, d1, d = intersect(df, result)\n",
    "# Output recipes\n",
    "out3, links, images =outputRecipes(d3)\n",
    "out2, links, images =outputRecipes(d2)\n",
    "out1, links, images =outputRecipes(d1)\n",
    "\n",
    "print('\\n')\n",
    "print('Here are the top recipes for all 3 ingredients: ')\n",
    "print(out3.title.head(3),'\\n')\n",
    "\n",
    "print('Here are the top recipes for 2 of 3 ingredients: ')\n",
    "print(out2.title.head(3),'\\n')\n",
    "\n",
    "print('Here are the top recipes for (at least) 1 of 3 ingredients: ')\n",
    "print(out1.title.head(3))\n"
   ]
  },
  {
   "cell_type": "code",
   "execution_count": null,
   "metadata": {},
   "outputs": [],
   "source": [
    "# Checkout the photos of ingredients, if available\n",
    "# Show picture\n",
    "showcasePhotos(d2.head(2))"
   ]
  }
 ],
 "metadata": {
  "kernelspec": {
   "display_name": "Python 3",
   "language": "python",
   "name": "python3"
  },
  "language_info": {
   "codemirror_mode": {
    "name": "ipython",
    "version": 3
   },
   "file_extension": ".py",
   "mimetype": "text/x-python",
   "name": "python",
   "nbconvert_exporter": "python",
   "pygments_lexer": "ipython3",
   "version": "3.8.5"
  }
 },
 "nbformat": 4,
 "nbformat_minor": 2
}
